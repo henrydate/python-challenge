{
 "cells": [
  {
   "cell_type": "code",
   "execution_count": 109,
   "id": "0826f31e-b064-4968-a2a5-67e89364980d",
   "metadata": {},
   "outputs": [],
   "source": [
    "import pandas as pd\n",
    "from pathlib import Path\n",
    "import csv\n",
    "\n"
   ]
  },
  {
   "cell_type": "code",
   "execution_count": 110,
   "id": "ee5fff80-334c-4955-80e8-7c463e69cb0a",
   "metadata": {},
   "outputs": [],
   "source": [
    "budget_path = Path('budget_data.csv')"
   ]
  },
  {
   "cell_type": "code",
   "execution_count": 114,
   "id": "b1149a12-60f4-42e5-ae1f-6b243d3c9b93",
   "metadata": {},
   "outputs": [
    {
     "name": "stdout",
     "output_type": "stream",
     "text": [
      "0\n"
     ]
    },
    {
     "ename": "TypeError",
     "evalue": "'int' object is not subscriptable",
     "output_type": "error",
     "traceback": [
      "\u001b[1;31m---------------------------------------------------------------------------\u001b[0m",
      "\u001b[1;31mTypeError\u001b[0m                                 Traceback (most recent call last)",
      "\u001b[1;32m~\\AppData\\Local\\Temp\\ipykernel_25316\\2812324699.py\u001b[0m in \u001b[0;36m<module>\u001b[1;34m\u001b[0m\n\u001b[0;32m      8\u001b[0m     \u001b[1;32mfor\u001b[0m \u001b[0mrow\u001b[0m \u001b[1;32min\u001b[0m \u001b[0mdataframe\u001b[0m\u001b[1;33m:\u001b[0m\u001b[1;33m\u001b[0m\u001b[1;33m\u001b[0m\u001b[0m\n\u001b[0;32m      9\u001b[0m         \u001b[0mprint\u001b[0m\u001b[1;33m(\u001b[0m\u001b[0mrow\u001b[0m\u001b[1;33m)\u001b[0m\u001b[1;33m\u001b[0m\u001b[1;33m\u001b[0m\u001b[0m\n\u001b[1;32m---> 10\u001b[1;33m         \u001b[0mdate\u001b[0m \u001b[1;33m=\u001b[0m \u001b[0mrow\u001b[0m\u001b[1;33m[\u001b[0m\u001b[1;36m0\u001b[0m\u001b[1;33m]\u001b[0m\u001b[1;33m\u001b[0m\u001b[1;33m\u001b[0m\u001b[0m\n\u001b[0m\u001b[0;32m     11\u001b[0m         \u001b[0moutcome\u001b[0m \u001b[1;33m=\u001b[0m \u001b[0mint\u001b[0m\u001b[1;33m(\u001b[0m\u001b[0mrow\u001b[0m\u001b[1;33m[\u001b[0m\u001b[1;36m1\u001b[0m\u001b[1;33m]\u001b[0m\u001b[1;33m)\u001b[0m\u001b[1;33m\u001b[0m\u001b[1;33m\u001b[0m\u001b[0m\n\u001b[0;32m     12\u001b[0m \u001b[1;33m\u001b[0m\u001b[0m\n",
      "\u001b[1;31mTypeError\u001b[0m: 'int' object is not subscriptable"
     ]
    }
   ],
   "source": [
    "line_num = 0\n",
    "\n",
    "with open(budget_path, 'r') as csvfile:\n",
    "        \n",
    "    csvreader = csv.reader(csvfile, delimiter=\",\")\n",
    "    csv_header = next(csvreader)\n",
    "  \n",
    "    for row in dataframe:\n",
    "        print(row)\n",
    "        date = row[0]\n",
    "        outcome = int(row[1])\n",
    "        \n",
    "max_loss = 0\n",
    "max_profit = 0\n",
    "avg_change = 0\n",
    "total = 0\n",
    "total_months = 0        \n",
    "        \n",
    "for profit in profits:\n",
    "        \n",
    "        total += profit\n",
    "        total_months += 1\n",
    "\n",
    "        if max_loss == 0:\n",
    "            max_loss = profit\n",
    "        elif profit < max_loss:\n",
    "            max_loss = profit\n",
    "        elif profit > max_profit:\n",
    "            max_profit = profit\n",
    "        \n",
    "print(\"Financial Analysis\")\n",
    "print(f\"----------------------------\")\n",
    "print(f\"Total Months: {line_num}\")\n",
    "print(f\"Total: {total}\")\n",
    "print(f\"Average Change: {average_change}\")\n",
    "print(f\"Greatest Increase in Profits: {Date} + {max_profit}\")\n",
    "print(f\"Greatest Decrease in Profits: {Date} + {max_loss}\")\n",
    "\n",
    "        \n",
    "output_path = Path(\"output.txt\")\n",
    "\n",
    "with open(output_path, 'w') as file:\n",
    "    file.write(\"This is the financial analysis.\\n\")\n",
    "    file.write(text)\n",
    "                            "
   ]
  },
  {
   "cell_type": "code",
   "execution_count": null,
   "id": "cb9cc68d-843d-4505-80be-da86dedb785f",
   "metadata": {},
   "outputs": [],
   "source": []
  },
  {
   "cell_type": "code",
   "execution_count": null,
   "id": "f7a3f924-26be-4b16-938b-f4f0e1115f07",
   "metadata": {},
   "outputs": [],
   "source": []
  }
 ],
 "metadata": {
  "kernelspec": {
   "display_name": "Python 3 (ipykernel)",
   "language": "python",
   "name": "python3"
  },
  "language_info": {
   "codemirror_mode": {
    "name": "ipython",
    "version": 3
   },
   "file_extension": ".py",
   "mimetype": "text/x-python",
   "name": "python",
   "nbconvert_exporter": "python",
   "pygments_lexer": "ipython3",
   "version": "3.7.13"
  }
 },
 "nbformat": 4,
 "nbformat_minor": 5
}
